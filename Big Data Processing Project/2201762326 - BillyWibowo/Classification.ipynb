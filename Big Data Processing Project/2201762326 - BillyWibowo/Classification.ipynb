{
 "cells": [
  {
   "cell_type": "code",
   "execution_count": 1,
   "metadata": {},
   "outputs": [],
   "source": [
    "from pyspark.sql import SparkSession\n",
    "from pyspark.sql.functions import when\n",
    "from pyspark.ml.feature import VectorAssembler, StandardScaler\n",
    "from pyspark.ml.classification import LogisticRegression\n",
    "from pyspark.ml.evaluation import BinaryClassificationEvaluator"
   ]
  },
  {
   "cell_type": "code",
   "execution_count": 6,
   "metadata": {},
   "outputs": [],
   "source": [
    "def transform_data(data) :\n",
    "    data=data.withColumn(\"Water\", when (data[\"Water\"]==\"Low\",0).when(data[\"Water\"]==\"Medium\",1).otherwise(2))\n",
    "    data=data.withColumn(\"Atmosphere Color\", when (data[\"Atmosphere Color\"]==\"Red\",0).when(data[\"Atmosphere Color\"]==\"Blue\",1).otherwise(2))\n",
    "    \n",
    "    \n",
    "    \n",
    "    cols = data.columns\n",
    "    cols.remove(\"Habitable\")\n",
    "    data=VectorAssembler(inputCols=cols, outputCol=\"Features\").transform(data)\n",
    "    \n",
    "    scaler = StandardScaler(inputCol=\"Features\", outputCol=\"Scaler_Features\")\n",
    "    data = scaler.fit(data).transform(data)\n",
    "    \n",
    "    return data\n",
    "    "
   ]
  },
  {
   "cell_type": "code",
   "execution_count": 2,
   "metadata": {},
   "outputs": [],
   "source": [
    "spark = SparkSession.builder.getOrCreate()"
   ]
  },
  {
   "cell_type": "code",
   "execution_count": 3,
   "metadata": {},
   "outputs": [],
   "source": [
    "train_data = spark.read.option(\"inferSchema\",\"true\").csv(\"Classification/Planet_Training.csv\", header=True)\n",
    "test_data = spark.read.option(\"inferSchema\",\"true\").csv(\"Classification/Planet_Testing.csv\", header=True)"
   ]
  },
  {
   "cell_type": "code",
   "execution_count": 4,
   "metadata": {},
   "outputs": [],
   "source": [
    "train_data = train_data.select(\"Temperature\", \"Water\", \"Atmosphere Color\", \"Habitable\")\n",
    "test_data = test_data.select(\"Temperature\", \"Water\", \"Atmosphere Color\", \"Habitable\")"
   ]
  },
  {
   "cell_type": "code",
   "execution_count": 5,
   "metadata": {},
   "outputs": [],
   "source": [
    "train_data = train_data.na.drop()\n",
    "test_data = test_data.na.drop()"
   ]
  },
  {
   "cell_type": "code",
   "execution_count": 7,
   "metadata": {},
   "outputs": [],
   "source": [
    "train_data = transform_data(train_data)\n",
    "test_data = transform_data(test_data)"
   ]
  },
  {
   "cell_type": "code",
   "execution_count": 8,
   "metadata": {},
   "outputs": [],
   "source": [
    "model = LogisticRegression(featuresCol=\"Scaler_Features\", labelCol=\"Habitable\", maxIter=10).fit(train_data)"
   ]
  },
  {
   "cell_type": "code",
   "execution_count": 9,
   "metadata": {},
   "outputs": [],
   "source": [
    "prediction = model.transform(test_data)"
   ]
  },
  {
   "cell_type": "code",
   "execution_count": 10,
   "metadata": {},
   "outputs": [],
   "source": [
    "evaluator = BinaryClassificationEvaluator(labelCol=\"Habitable\")"
   ]
  },
  {
   "cell_type": "code",
   "execution_count": 11,
   "metadata": {},
   "outputs": [
    {
     "name": "stdout",
     "output_type": "stream",
     "text": [
      "Accuracy : 0.9171043337232417\n"
     ]
    }
   ],
   "source": [
    "print(\"Accuracy : {}\".format(evaluator.evaluate(prediction)))"
   ]
  }
 ],
 "metadata": {
  "kernelspec": {
   "display_name": "Python 3",
   "language": "python",
   "name": "python3"
  },
  "language_info": {
   "codemirror_mode": {
    "name": "ipython",
    "version": 3
   },
   "file_extension": ".py",
   "mimetype": "text/x-python",
   "name": "python",
   "nbconvert_exporter": "python",
   "pygments_lexer": "ipython3",
   "version": "3.7.7"
  }
 },
 "nbformat": 4,
 "nbformat_minor": 4
}
